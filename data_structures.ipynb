{
 "cells": [
  {
   "cell_type": "markdown",
   "metadata": {},
   "source": [
    "Data Types and Structures Questions\n",
    "\n",
    "1. What are data structures, and why are they important ?\n",
    "\n",
    "A:  Data Structures are a way to store and manage data either in an ordered or in an unordered manner.\n",
    "    Data Structures are important for two main reasons, they are:  \n",
    "      -Fast access of data \n",
    "      -To store data in a secured and well-maintained pattern \n",
    "\n",
    "2. Explain the difference between mutable and immutable data types with examples.\n",
    "\n",
    "A:  The main difference between mutable and immutable data type is that mutable data type has the advantage of changing value after \n",
    "    declared whereas for data integrity immutable datatypes doesn't allows data changing once declared.\n",
    "\n",
    "    For example: \n",
    "\n",
    "    Lists are mutable:  \n",
    "\n",
    "    l = [1, 2, 3]  \n",
    "\n",
    "    l[0] = 4  \n",
    "\n",
    "    print(l) \n",
    "    ____________ \n",
    "\n",
    "    Output: [4, 2, 3] \n",
    "\n",
    "    Tuples are immutable:  \n",
    "\n",
    "    t = (1, 2, 3)  \n",
    "\n",
    "    t[0] = 4 \n",
    "    ____________ \n",
    "\n",
    "    Output: TypeError : Tuple doesn’t support re-assignment \n",
    "\n",
    "3. What are the main differences between lists and tuples in Python3?\n",
    "\n",
    "A: Lists vS Tuples \n",
    "\n",
    "    a. Lists are mutable whereas tuples are immutable \n",
    "\n",
    "    b. Lists are stored in square braces [], whereas tuples are stored in parenthesis () \n",
    "\n",
    "    c. Lists are an object to list class whereas tuples are a part of tuple class \n",
    "\n",
    "    d. Example of list is [1,2,3,4] whereas example of tuple is (1,2,3,4) \n",
    "\n",
    "4. Describe how dictionaries store data.\n",
    "\n",
    "A: Dictionaries stores data in key value pairs where the index of the value is the key given. For example:  \n",
    "\n",
    "    x = {‘name’: ‘Smarak’, ‘marks’:100, ‘grade’:O}\t \n",
    "\n",
    "    print(x[‘marks’]) \n",
    "    ___________________________________ \n",
    "\n",
    "    Output: \n",
    "\n",
    "    100 \n",
    "\n",
    "5. Why might you use a set instead of a list in Python3?\n",
    "\n",
    "A:  Sets can be used when we have no such requirements of storing the data in a sequenced manner and when we have no requirement of \n",
    "    repeating elements or values. Whereas lists are used when we have the priority of the sequence of the data elements or values and when the elements or values can have multiple occurrences. \n",
    "\n",
    "6. What is a string in Python, and how is it different from a list?\n",
    "\n",
    "A:  Strings in python are a vital data structure to store a sequenced set of characters. Strings are written in single, double, or triple \n",
    "    quotes whereas lists are created and stored in square braces []. Strings are immutable whereas lists are mutable. Strings can store only a single sequence of characters at a time whereas lists can store a collection of data irrespective of the datatype. Example:  \n",
    "\n",
    "    string = “Smarak Haldar” \n",
    "\n",
    "    lis = [‘Smarak’, True, 4.9, 4, ‘s’] \n",
    "\n",
    "7. How do tuples ensure data integrity in Python3?\n",
    "\n",
    "A: Tuples cannot be modified which makes the data irreplaceable and safe from outer threats. This makes tuples show data integrity. \n",
    "\n",
    "8. What is a hash table, and how does it relate to dictionaries in Python3?\n",
    "\n",
    "A: Hash tables are a type of data structure where data is stored in key value sequenced and accessed by mapping the key and value. The \n",
    "   dictionary in python uses a hash table to store data. \n",
    "\n",
    "9. Can lists contain different data types in Python3?\n",
    "\n",
    "A: Yes, list can contain different data types in python. \n",
    "\n",
    "10. Explain why strings are immutable in Python3?\n",
    "\n",
    "A:  Strings are immutable in python for data integrity as to safeguard the data from wanted activities like replacement of \n",
    "    characters unnecessarily. \n",
    "\n",
    "11. What advantages do dictionaries offer over lists for certain tasks?\n",
    "\n",
    "A:  Lists can only contain data in specific index positions whereas dictionaries can store data in key value pairs which allows users to \n",
    "    store data with a specific user defined index so that the data can later be accessed and managed with ease. \n",
    "\n",
    "12. Describe a scenario where using a tuple would be preferable over a list.\n",
    "\n",
    "A:  The scenario when we need to use a constant collection of data for the entire program or block of code, we prefer tuple over lists in \n",
    "    these cases as there is more reliability on tuple for data integrity because tuples are immutable.\n",
    "\n",
    "13. How do sets handle duplicate values in Python3?\n",
    "\n",
    "A:  Sets remove duplicate values while storing the collection of data. \n",
    "\n",
    "14. How does the “in” keyword work differently for lists and dictionaries?\n",
    "\n",
    "A:  For lists the “in” keyword focuses on the values whereas in dictionaries the “in” keyword focuses on the keys of the values. \n",
    "\n",
    "15. Can you modify the elements of a tuple? Explain why or why not.\n",
    "\n",
    "A:  No, we cannot modify the values of a tuple because they are immutable.\n",
    "\n",
    "16. What is a nested dictionary, and give an example of its use case.\n",
    "\n",
    "A:  Nested Dictionary is a dictionary containing another dictionary as one of its values for a key.  \n",
    "\n",
    "\tOne example of nested dictionary can be seen in the educational sectors where there may be a dictionary of students with each subject marks as the nested dictionary. \n",
    "\n",
    "    For Example:  \n",
    "\n",
    "    dict_student_marks = { \n",
    "\n",
    "        ‘smarak’:{ \n",
    "\n",
    "            ‘maths’:100, \n",
    "\n",
    "            ‘python’:100, \n",
    "\n",
    "            ‘english’:98 \n",
    "\n",
    "        } \n",
    "\n",
    "    }\t\n",
    "\n",
    "17. Describe the time complexity of accessing elements in a dictionary.\n",
    "\n",
    "A:  The time complexity of accessing a specific element in a dictionary is O(1). \n",
    "    Whereas for traversing the elements the complexity may vary with the proportion of data, but in most cases seen O(n) where ‘n’ is the size of the dictionary. \n",
    "\n",
    "18. In what situations are lists preferred over dictionaries?\n",
    "\n",
    "A:  The lists are preferred over dictionaries when we have no requirements of user defined keys or indices for the values or elements. \n",
    "\n",
    "19. Why are dictionaries considered unordered, and how does that affect data retrieval.\n",
    "\n",
    "A:  As dictionaries stores data using key value pairs thus this makes it as unordered data storing data structure.  This affects the \n",
    "    data retrieval mechanism to be more efficient. \n",
    "\n",
    "20. Explain the difference between a list and a dictionary in terms of data retrieval.\n",
    "\n",
    "A:  In lists we access data by numeric indices whereas in dictionaries we retrieve data using specific key assigned to that value. "
   ]
  },
  {
   "cell_type": "code",
   "execution_count": 1,
   "metadata": {},
   "outputs": [],
   "source": [
    "#Practical Questions"
   ]
  },
  {
   "cell_type": "code",
   "execution_count": 2,
   "metadata": {},
   "outputs": [
    {
     "name": "stdout",
     "output_type": "stream",
     "text": [
      "Smarak Haldar\n"
     ]
    }
   ],
   "source": [
    "# 1. Write a code to create a string with your name and print it.\n",
    "\n",
    "name = \"Smarak Haldar\"\n",
    "\n",
    "print(name)"
   ]
  },
  {
   "cell_type": "code",
   "execution_count": 3,
   "metadata": {},
   "outputs": [
    {
     "name": "stdout",
     "output_type": "stream",
     "text": [
      "11\n",
      "11\n"
     ]
    }
   ],
   "source": [
    "# 2. Write a code to find the length of the string \"Hello World\"\n",
    "\n",
    "string = \"Hello World\"\n",
    "\n",
    "#method 1\n",
    "\n",
    "print(len(string))\n",
    "\n",
    "#method 2\n",
    "\n",
    "length = 0\n",
    "\n",
    "for _ in string:\n",
    "  length+=1\n",
    "\n",
    "print(length)"
   ]
  },
  {
   "cell_type": "code",
   "execution_count": 4,
   "metadata": {},
   "outputs": [
    {
     "name": "stdout",
     "output_type": "stream",
     "text": [
      "Pyt\n",
      "Pyt\n"
     ]
    }
   ],
   "source": [
    "# 3.  Write a code to slice the first 3 characters from the string \"Python Programming\"\n",
    "\n",
    "string = \"Python Programming\"\n",
    "\n",
    "#method 1\n",
    "\n",
    "print(string[0:3])\n",
    "\n",
    "#method 2\n",
    "\n",
    "print(string[-18:-15])"
   ]
  },
  {
   "cell_type": "code",
   "execution_count": null,
   "metadata": {},
   "outputs": [
    {
     "name": "stdout",
     "output_type": "stream",
     "text": [
      "HELLO\n"
     ]
    }
   ],
   "source": [
    "# 4.  Write a code to convert the string \"hello\" to uppercase.\n",
    "\n",
    "string = \"hello\"\n",
    "\n",
    "print(string.upper())"
   ]
  },
  {
   "cell_type": "code",
   "execution_count": 10,
   "metadata": {},
   "outputs": [
    {
     "name": "stdout",
     "output_type": "stream",
     "text": [
      "I like orange\n"
     ]
    }
   ],
   "source": [
    "# 5. Write a code to replace the word \"apple\" with \"orange\" in the string \"I like apple\".\n",
    "\n",
    "string = \"I like apple\"\n",
    "\n",
    "replace = \"orange\"\n",
    "\n",
    "rstring = string.replace('apple', replace)\n",
    "\n",
    "print(rstring)"
   ]
  },
  {
   "cell_type": "code",
   "execution_count": 11,
   "metadata": {},
   "outputs": [
    {
     "name": "stdout",
     "output_type": "stream",
     "text": [
      "1 2 3 4 5 "
     ]
    }
   ],
   "source": [
    "# 6. Write a code to create a list with numbers 1 to 5 and print it.\n",
    "\n",
    "numbers = [1, 2, 3, 4, 5]\n",
    "\n",
    "for number in numbers:\n",
    "  print(number, end=\" \")"
   ]
  },
  {
   "cell_type": "code",
   "execution_count": 12,
   "metadata": {},
   "outputs": [
    {
     "name": "stdout",
     "output_type": "stream",
     "text": [
      "[1, 2, 3, 4, 10]\n"
     ]
    }
   ],
   "source": [
    "# 7. Write a code to append the number 10 to the list [1, 2, 3, 4].\n",
    "\n",
    "numbers = [1, 2, 3, 4]\n",
    "\n",
    "numbers.append(10)\n",
    "\n",
    "print(numbers)"
   ]
  },
  {
   "cell_type": "code",
   "execution_count": 14,
   "metadata": {},
   "outputs": [
    {
     "name": "stdout",
     "output_type": "stream",
     "text": [
      "[1, 2, 4, 5]\n"
     ]
    }
   ],
   "source": [
    "# 8. Write a code to remove the number 3 from the list [1, 2, 3, 4, 5].\n",
    "\n",
    "numbers = [1, 2, 3, 4, 5]\n",
    "\n",
    "numbers.remove(3)\n",
    "\n",
    "print(numbers)"
   ]
  },
  {
   "cell_type": "code",
   "execution_count": 15,
   "metadata": {},
   "outputs": [
    {
     "name": "stdout",
     "output_type": "stream",
     "text": [
      "b\n",
      "b\n"
     ]
    }
   ],
   "source": [
    "# 9.  Write a code to access the second element in the list ['a', 'b', 'c', 'd'].\n",
    "\n",
    "letters = ['a', 'b', 'c', 'd']\n",
    "\n",
    "# method 1\n",
    "\n",
    "print(letters[1])\n",
    "\n",
    "# method 2 \n",
    "\n",
    "print(letters[-3])\n",
    "\n"
   ]
  },
  {
   "cell_type": "code",
   "execution_count": 17,
   "metadata": {},
   "outputs": [
    {
     "name": "stdout",
     "output_type": "stream",
     "text": [
      "[50, 40, 30, 20, 10]\n",
      "50 40 30 20 10 "
     ]
    }
   ],
   "source": [
    "# 10. Write a code to reverse the list [10, 20, 30, 40, 50].\n",
    "\n",
    "numbers = [10, 20, 30, 40, 50]\n",
    "\n",
    "# method 1\n",
    "\n",
    "print(numbers[::-1])\n",
    "\n",
    "# method 2\n",
    "\n",
    "for index in range(len(numbers)-1, -1, -1):\n",
    "  print(numbers[index], end=\" \")"
   ]
  },
  {
   "cell_type": "code",
   "execution_count": 19,
   "metadata": {},
   "outputs": [
    {
     "name": "stdout",
     "output_type": "stream",
     "text": [
      "(100, 200, 300)\n"
     ]
    }
   ],
   "source": [
    "# 11. Write a code to create a tuple with the elements 100, 200, 300 and print it.\n",
    "\n",
    "numbers = (100, 200, 300)\n",
    "\n",
    "print(numbers)"
   ]
  },
  {
   "cell_type": "code",
   "execution_count": 20,
   "metadata": {},
   "outputs": [
    {
     "name": "stdout",
     "output_type": "stream",
     "text": [
      "('green', 'blue', 'yellow')\n"
     ]
    }
   ],
   "source": [
    "# 12. Write a code to access the second-to-last element of the tuple ('red', 'green', 'blue', 'yellow').\n",
    "\n",
    "colors = ('red', 'green', 'blue', 'yellow')\n",
    "\n",
    "print(colors[1:])"
   ]
  },
  {
   "cell_type": "code",
   "execution_count": 21,
   "metadata": {},
   "outputs": [
    {
     "name": "stdout",
     "output_type": "stream",
     "text": [
      "5\n",
      "5\n"
     ]
    }
   ],
   "source": [
    "# 13. Write a code to find the minimum number in the tuple (10, 20, 5, 15).\n",
    "\n",
    "numbers = (10, 20, 5, 15)\n",
    "\n",
    "# method 1 \n",
    "\n",
    "minimum = min(numbers)\n",
    "\n",
    "print(minimum)\n",
    "\n",
    "# method 2\n",
    "\n",
    "minimum = numbers[0]\n",
    "\n",
    "for number in numbers[1:]:\n",
    "  if minimum > number:\n",
    "    minimum = number\n",
    "\n",
    "print(minimum)"
   ]
  },
  {
   "cell_type": "code",
   "execution_count": 22,
   "metadata": {},
   "outputs": [
    {
     "name": "stdout",
     "output_type": "stream",
     "text": [
      "1\n"
     ]
    }
   ],
   "source": [
    "# 14. Write a code to find the index of the element \"cat\" in the tuple ('dog', 'cat', 'rabbit').\n",
    "\n",
    "animals = ('dog', 'cat', 'rabbit')\n",
    "\n",
    "print(animals.index('cat'))"
   ]
  },
  {
   "cell_type": "code",
   "execution_count": 23,
   "metadata": {},
   "outputs": [
    {
     "name": "stdout",
     "output_type": "stream",
     "text": [
      "Kiwi is present\n",
      "Kiwi is not present\n"
     ]
    }
   ],
   "source": [
    "# 15.  Write a code to create a tuple containing three different fruits and check if \"kiwi\" is in it.\n",
    "\n",
    "fruits = ('mango', 'banana', 'kiwi', 'apple')\n",
    "\n",
    "if 'kiwi' in fruits:\n",
    "  print('Kiwi is present')\n",
    "else:\n",
    "  print('Kiwi is not present')\n",
    "\n",
    "fruits = ('mango', 'banana', 'apple')\n",
    "\n",
    "if 'kiwi' in fruits:\n",
    "  print('Kiwi is present')\n",
    "else:\n",
    "  print('Kiwi is not present')"
   ]
  },
  {
   "cell_type": "code",
   "execution_count": 24,
   "metadata": {},
   "outputs": [
    {
     "name": "stdout",
     "output_type": "stream",
     "text": [
      "{'c', 'b', 'a'}\n"
     ]
    }
   ],
   "source": [
    "# 16.  Write a code to create a set with the elements 'a', 'b', 'c' and print it.\n",
    "\n",
    "letters = {'a', 'b', 'c'}\n",
    "\n",
    "print(letters)"
   ]
  },
  {
   "cell_type": "code",
   "execution_count": 25,
   "metadata": {},
   "outputs": [
    {
     "name": "stdout",
     "output_type": "stream",
     "text": [
      "set()\n"
     ]
    }
   ],
   "source": [
    "# 17. Write a code to clear all elements from the set {1, 2, 3, 4, 5}.\n",
    "\n",
    "numbers = {1, 2, 3, 4, 5}\n",
    "\n",
    "numbers.clear()\n",
    "\n",
    "print(numbers)"
   ]
  },
  {
   "cell_type": "code",
   "execution_count": 26,
   "metadata": {},
   "outputs": [
    {
     "name": "stdout",
     "output_type": "stream",
     "text": [
      "{1, 2, 3}\n"
     ]
    }
   ],
   "source": [
    "# 18.  Write a code to remove the element 4 from the set {1, 2, 3, 4}.\n",
    "\n",
    "numbers = {1, 2, 3, 4}\n",
    "\n",
    "numbers.remove(4)\n",
    "\n",
    "print(numbers)"
   ]
  },
  {
   "cell_type": "code",
   "execution_count": 35,
   "metadata": {},
   "outputs": [
    {
     "name": "stdout",
     "output_type": "stream",
     "text": [
      "{1, 2, 3, 4, 5}\n",
      "{1, 2, 3, 4, 5}\n"
     ]
    }
   ],
   "source": [
    "# 19.  Write a code to find the union of two sets {1, 2, 3} and {3, 4, 5}.\n",
    "\n",
    "set_1 = {1, 2, 3}\n",
    "\n",
    "set_2 = {3, 4, 5}\n",
    "\n",
    "# method 1 \n",
    "\n",
    "print(set_1 | set_2)\n",
    "\n",
    "# method 2\n",
    "\n",
    "print(set_1.union(set_2))"
   ]
  },
  {
   "cell_type": "code",
   "execution_count": 36,
   "metadata": {},
   "outputs": [
    {
     "name": "stdout",
     "output_type": "stream",
     "text": [
      "{3}\n",
      "{3}\n"
     ]
    }
   ],
   "source": [
    "# 20. Write a code to find the intersection of two sets {1, 2, 3} and {2, 3, 4}\n",
    "\n",
    "set_1 = {1, 2, 3}\n",
    "\n",
    "set_2 = {3, 4, 5}\n",
    "\n",
    "# method 1\n",
    "\n",
    "print(set_1 & set_2)\n",
    "\n",
    "# method 2\n",
    "\n",
    "print(set_1.intersection(set_2))"
   ]
  },
  {
   "cell_type": "code",
   "execution_count": 37,
   "metadata": {},
   "outputs": [
    {
     "name": "stdout",
     "output_type": "stream",
     "text": [
      "{'name': 'Smarak Haldar', 'age': 21, 'city': 'Kolkata'}\n"
     ]
    }
   ],
   "source": [
    "# 21. Write a code to create a dictionary with the keys \"name\", \"age\", and \"city\", and print it.\n",
    "\n",
    "details = {\n",
    "  'name':'Smarak Haldar',\n",
    "  'age':21,\n",
    "  'city':'Kolkata'\n",
    "}\n",
    "\n",
    "print(details)"
   ]
  },
  {
   "cell_type": "code",
   "execution_count": 38,
   "metadata": {},
   "outputs": [
    {
     "name": "stdout",
     "output_type": "stream",
     "text": [
      "{'name': 'John', 'age': 25, 'country': 'USA'}\n"
     ]
    }
   ],
   "source": [
    "# 22. Write a code to add a new key-value pair \"country\": \"USA\" to the dictionary {'name': 'John', 'age': 25}.\n",
    "\n",
    "details = {'name': 'John', 'age': 25}\n",
    "\n",
    "# method 1\n",
    "\n",
    "details['country'] = 'USA'\n",
    "\n",
    "print(details)"
   ]
  },
  {
   "cell_type": "code",
   "execution_count": 39,
   "metadata": {},
   "outputs": [
    {
     "name": "stdout",
     "output_type": "stream",
     "text": [
      "Alice\n",
      "Alice\n"
     ]
    }
   ],
   "source": [
    "# 23. Write a code to access the value associated with the key \"name\" in the dictionary {'name': 'Alice', 'age': 30}.\n",
    "\n",
    "details = {'name': 'Alice', 'age': 30}\n",
    "\n",
    "# method 1\n",
    "\n",
    "print(details['name'])\n",
    "\n",
    "# method 2\n",
    "\n",
    "print(details.get('name'))"
   ]
  },
  {
   "cell_type": "code",
   "execution_count": 41,
   "metadata": {},
   "outputs": [
    {
     "name": "stdout",
     "output_type": "stream",
     "text": [
      "{'name': 'Bob', 'city': 'New York'}\n",
      "{'name': 'Bob', 'city': 'New York'}\n"
     ]
    }
   ],
   "source": [
    "# 24. Write a code to remove the key \"age\" from the dictionary {'name': 'Bob', 'age': 22, 'city': 'New York'}\n",
    "\n",
    "details = {'name': 'Bob', 'age': 22, 'city': 'New York'}\n",
    "\n",
    "# method 1 \n",
    "\n",
    "details.pop('age')\n",
    "\n",
    "print(details)\n",
    "\n",
    "# method 2\n",
    "\n",
    "details = {'name': 'Bob', 'age': 22, 'city': 'New York'}\n",
    "\n",
    "del details['age']\n",
    "\n",
    "print(details)"
   ]
  },
  {
   "cell_type": "code",
   "execution_count": 43,
   "metadata": {},
   "outputs": [
    {
     "name": "stdout",
     "output_type": "stream",
     "text": [
      "Exists\n",
      "Exists\n"
     ]
    }
   ],
   "source": [
    "# 25. Write a code to check if the key \"city\" exists in the dictionary {'name': 'Alice', 'city': 'Paris'}\n",
    "\n",
    "details = {'name': 'Alice', 'city': 'Paris'}\n",
    "\n",
    "# method 1\n",
    "\n",
    "print('Exists' if 'city' in details else 'Not Exists')\n",
    "\n",
    "# method 2 \n",
    "\n",
    "print('Exists' if 'city' in details.keys() else 'Not Exists')"
   ]
  },
  {
   "cell_type": "code",
   "execution_count": 47,
   "metadata": {},
   "outputs": [
    {
     "name": "stdout",
     "output_type": "stream",
     "text": [
      "List : [1, 2, 3, 4, 5]\n",
      "Tuple : (1, 2, 3, 4, 5)\n",
      "{'name': 'Smarak', 'age': 21}\n"
     ]
    }
   ],
   "source": [
    "# 26. Write a code to create a list, a tuple, and a dictionary, and print them all\n",
    "\n",
    "l = [\n",
    "\n",
    "]\n",
    "\n",
    "for _ in range(0, 5, 1):\n",
    "  l.append(int(input(\"Enter a number : \")))\n",
    "\n",
    "print(f'List : {l}')\n",
    "\n",
    "t = tuple(l)\n",
    "\n",
    "print(f'Tuple : {t}')\n",
    "\n",
    "d = {\n",
    "\n",
    "}\n",
    "\n",
    "d['name'] = input('Enter your name : ')\n",
    "\n",
    "d['age'] = int(input(\"Enter your age : \"))\n",
    "\n",
    "print(d)"
   ]
  },
  {
   "cell_type": "code",
   "execution_count": 74,
   "metadata": {},
   "outputs": [
    {
     "name": "stdout",
     "output_type": "stream",
     "text": [
      "[22, 49, 54, 65, 69]\n"
     ]
    }
   ],
   "source": [
    "# 27.  Write a code to create a list of 5 random numbers between 1 and 100, sort it in ascending order, and print the result.(replaced)\n",
    "\n",
    "import random\n",
    "\n",
    "l = [\n",
    "\n",
    "]\n",
    "\n",
    "for _ in range(0, 5, 1):\n",
    "  l.append(random.randint(1, 100))\n",
    "\n",
    "l.sort()\n",
    "\n",
    "print(l)"
   ]
  },
  {
   "cell_type": "code",
   "execution_count": 75,
   "metadata": {},
   "outputs": [
    {
     "name": "stdout",
     "output_type": "stream",
     "text": [
      "sneha\n",
      "sneha\n"
     ]
    }
   ],
   "source": [
    "# 28.  Write a code to create a list with strings and print the element at the third index.\n",
    "\n",
    "strings = [\n",
    "\n",
    "]\n",
    "\n",
    "for _ in range(0, 5, 1):\n",
    "  strings.append(input('Enter a string : '))\n",
    "\n",
    "# method 1\n",
    "\n",
    "print(strings[-3])\n",
    "\n",
    "# method 2\n",
    "\n",
    "print(strings[2])"
   ]
  },
  {
   "cell_type": "code",
   "execution_count": 78,
   "metadata": {},
   "outputs": [
    {
     "name": "stdout",
     "output_type": "stream",
     "text": [
      "{'name': 'Smarak', 'age': 21}\n"
     ]
    }
   ],
   "source": [
    "# 29. Write a code to combine two dictionaries into one and print the result.\n",
    "\n",
    "details_1 = {\n",
    "  'name':'Smarak'\n",
    "}\n",
    "\n",
    "details_2 = {\n",
    "  'age':21\n",
    "}\n",
    "\n",
    "details_1.update(details_2)\n",
    "\n",
    "print(details_1)"
   ]
  },
  {
   "cell_type": "code",
   "execution_count": 79,
   "metadata": {},
   "outputs": [
    {
     "name": "stdout",
     "output_type": "stream",
     "text": [
      "{'jhon', 'smarak', 'rolex'}\n"
     ]
    }
   ],
   "source": [
    "# 30.  Write a code to convert a list of strings into a set.\n",
    "\n",
    "list_of_strings = ['smarak', 'jhon', 'rolex']\n",
    "\n",
    "set_of_strings = set(list_of_strings)\n",
    "\n",
    "print(set_of_strings)"
   ]
  },
  {
   "cell_type": "code",
   "execution_count": null,
   "metadata": {},
   "outputs": [],
   "source": []
  }
 ],
 "metadata": {
  "kernelspec": {
   "display_name": "Python 3",
   "language": "python",
   "name": "python3"
  },
  "language_info": {
   "codemirror_mode": {
    "name": "ipython",
    "version": 3
   },
   "file_extension": ".py",
   "mimetype": "text/x-python",
   "name": "python",
   "nbconvert_exporter": "python",
   "pygments_lexer": "ipython3",
   "version": "3.12.4"
  }
 },
 "nbformat": 4,
 "nbformat_minor": 2
}
